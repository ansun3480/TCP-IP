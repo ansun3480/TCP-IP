{
  "nbformat": 4,
  "nbformat_minor": 0,
  "metadata": {
    "colab": {
      "provenance": [],
      "authorship_tag": "ABX9TyO66enhyN8kC7YRz8Lhty0t",
      "include_colab_link": true
    },
    "kernelspec": {
      "name": "python3",
      "display_name": "Python 3"
    },
    "language_info": {
      "name": "python"
    }
  },
  "cells": [
    {
      "cell_type": "markdown",
      "metadata": {
        "id": "view-in-github",
        "colab_type": "text"
      },
      "source": [
        "<a href=\"https://colab.research.google.com/github/ansun3480/TCP-IP/blob/main/TCP_IP.ipynb\" target=\"_parent\"><img src=\"https://colab.research.google.com/assets/colab-badge.svg\" alt=\"Open In Colab\"/></a>"
      ]
    },
    {
      "cell_type": "code",
      "source": [
        "import socket\n",
        "\n",
        "HOST = \"google.com\"\n",
        "PORT = 80\n",
        "\n",
        "with socket.socket(socket.AF_INET, socket.SOCK_STREAM) as s:\n",
        "    s.connect((\"google.com\", 80))\n",
        "    s.sendall(b\"GET / HTTP/1.2\\n\\n\")\n",
        "    data = s.recv(1024)\n",
        "\n",
        "print(f\"Received {data.decode('utf-8')}\")\n"
      ],
      "metadata": {
        "colab": {
          "base_uri": "https://localhost:8080/"
        },
        "id": "etwLsLJwIssO",
        "outputId": "23faaff2-a80c-45f7-9e14-4da4cced20c9"
      },
      "execution_count": 7,
      "outputs": [
        {
          "output_type": "stream",
          "name": "stdout",
          "text": [
            "Received HTTP/1.1 200 OK\r\n",
            "Date: Thu, 28 Mar 2024 04:35:47 GMT\r\n",
            "Expires: -1\r\n",
            "Cache-Control: private, max-age=0\r\n",
            "Content-Type: text/html; charset=ISO-8859-1\r\n",
            "Content-Security-Policy-Report-Only: object-src 'none';base-uri 'self';script-src 'nonce-X5TyBz7mfctDYqLYqGtfqw' 'strict-dynamic' 'report-sample' 'unsafe-eval' 'unsafe-inline' https: http:;report-uri https://csp.withgoogle.com/csp/gws/other-hp\r\n",
            "P3P: CP=\"This is not a P3P policy! See g.co/p3phelp for more info.\"\r\n",
            "Server: gws\r\n",
            "X-XSS-Protection: 0\r\n",
            "X-Frame-Options: SAMEORIGIN\r\n",
            "Set-Cookie: AEC=Ae3NU9MMuFqPg9OFfSjhtOXLv_si0M2O0XJtrMylLLs-MX3cByd4gGMocg; expires=Tue, 24-Sep-2024 04:35:47 GMT; path=/; domain=.google.com; Secure; HttpOnly; SameSite=lax\r\n",
            "Set-Cookie: NID=512=cP50EvJOYHGojNk5qOH_ZGQHwG1dK-68An_ewoX6RoJ7TH3CHnrXJR-Cw_0LdGJVYv196pD1KJzMUq7oSfdKwkuPGu82KVyKckFDv5EB04ZKMbrWCinM6SeOINk5ulml6gsaaKPhwm3dW8qb80FiWHZ54DUTiRZmXpGL1t0nKbU; expires=Fri, 27-Sep-2024 04:35:47 GMT; path=/; domain=.google.com; HttpOnly\r\n",
            "Accept-Ranges: none\r\n",
            "Vary: Accept-Encoding\r\n",
            "Transfer-En\n"
          ]
        }
      ]
    },
    {
      "cell_type": "code",
      "source": [
        "!curl ipecho.net/plain"
      ],
      "metadata": {
        "colab": {
          "base_uri": "https://localhost:8080/"
        },
        "id": "awj6pYp6VntJ",
        "outputId": "27c91862-4a00-4ffc-aa6a-7207eef35a3e"
      },
      "execution_count": 4,
      "outputs": [
        {
          "output_type": "stream",
          "name": "stdout",
          "text": [
            "34.86.229.196"
          ]
        }
      ]
    }
  ]
}